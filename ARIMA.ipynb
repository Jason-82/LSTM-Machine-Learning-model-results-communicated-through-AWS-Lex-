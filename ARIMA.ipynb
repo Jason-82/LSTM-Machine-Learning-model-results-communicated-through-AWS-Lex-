{
 "cells": [
  {
   "cell_type": "code",
   "execution_count": 34,
   "metadata": {},
   "outputs": [],
   "source": [
    "import numpy as np\n",
    "import pandas as pd\n",
    "import os\n",
    "from datetime import datetime, timedelta\n",
    "import matplotlib.pyplot as plt\n",
    "import alpaca_trade_api as tradeapi\n",
    "from datetime import date\n",
    "%matplotlib inline"
   ]
  },
  {
   "cell_type": "code",
   "execution_count": 35,
   "metadata": {},
   "outputs": [],
   "source": [
    "from dotenv import load_dotenv\n",
    "load_dotenv()\n",
    "\n",
    "# Set Alpaca API key and secret\n",
    "alpaca_api_key = \"your_alpaca_apikey\"\n",
    "alpaca_secret_key = \"your_alpaca_secretkey\"\n",
    "\n",
    "# Create the Alpaca API object\n",
    "api = tradeapi.REST(\n",
    "    alpaca_api_key,\n",
    "    alpaca_secret_key,\n",
    "    api_version=\"v2\")"
   ]
  },
  {
   "cell_type": "code",
   "execution_count": 36,
   "metadata": {},
   "outputs": [],
   "source": [
    "ticker = ['SPY', 'AGG','DIA', 'XLY','QQQ', 'GLD', 'SLV', 'VWO','USO', 'EFA']\n",
    "\n",
    "# Set timeframe to '1D'\n",
    "timeframe = \"1D\"\n",
    "\n",
    "# Set start and end datetimes of 1 year, between now and 365 days ago.\n",
    "start_date = pd.Timestamp('2015-01-01', tz='America/New_York').isoformat()\n",
    "today = date.today()\n",
    "end_date = pd.Timestamp(today.strftime(\"%Y-%m-%d\"), tz=\"America/New_York\").isoformat()\n",
    "\n",
    "# Get 1 year's worth of historical data for SPY and AGG\n",
    "df = api.get_barset(\n",
    "    ticker,\n",
    "    timeframe,\n",
    "    limit=None,\n",
    "    start=start_date,\n",
    "    end=end_date,\n",
    "    after=None,\n",
    "    until=None,\n",
    ").df\n",
    "\n",
    "\n",
    "# Remove the time component of the data\n",
    "df.index = df.index.date"
   ]
  },
  {
   "cell_type": "code",
   "execution_count": 37,
   "metadata": {},
   "outputs": [],
   "source": [
    "df = df.drop(\n",
    "    columns=['open', 'high', 'low', 'volume'],\n",
    "    level=1\n",
    ")"
   ]
  },
  {
   "cell_type": "code",
   "execution_count": 38,
   "metadata": {},
   "outputs": [
    {
     "data": {
      "text/html": [
       "<div>\n",
       "<style scoped>\n",
       "    .dataframe tbody tr th:only-of-type {\n",
       "        vertical-align: middle;\n",
       "    }\n",
       "\n",
       "    .dataframe tbody tr th {\n",
       "        vertical-align: top;\n",
       "    }\n",
       "\n",
       "    .dataframe thead tr th {\n",
       "        text-align: left;\n",
       "    }\n",
       "</style>\n",
       "<table border=\"1\" class=\"dataframe\">\n",
       "  <thead>\n",
       "    <tr>\n",
       "      <th></th>\n",
       "      <th>AGG</th>\n",
       "      <th>DIA</th>\n",
       "      <th>EFA</th>\n",
       "      <th>GLD</th>\n",
       "      <th>QQQ</th>\n",
       "      <th>SLV</th>\n",
       "      <th>SPY</th>\n",
       "      <th>USO</th>\n",
       "      <th>VWO</th>\n",
       "      <th>XLY</th>\n",
       "    </tr>\n",
       "    <tr>\n",
       "      <th></th>\n",
       "      <th>close</th>\n",
       "      <th>close</th>\n",
       "      <th>close</th>\n",
       "      <th>close</th>\n",
       "      <th>close</th>\n",
       "      <th>close</th>\n",
       "      <th>close</th>\n",
       "      <th>close</th>\n",
       "      <th>close</th>\n",
       "      <th>close</th>\n",
       "    </tr>\n",
       "  </thead>\n",
       "  <tbody>\n",
       "    <tr>\n",
       "      <th>2015-01-02</th>\n",
       "      <td>110.45</td>\n",
       "      <td>177.99</td>\n",
       "      <td>54.67</td>\n",
       "      <td>114.070</td>\n",
       "      <td>99.50</td>\n",
       "      <td>15.11</td>\n",
       "      <td>205.41</td>\n",
       "      <td>19.9000</td>\n",
       "      <td>39.570</td>\n",
       "      <td>71.63</td>\n",
       "    </tr>\n",
       "    <tr>\n",
       "      <th>2015-01-05</th>\n",
       "      <td>110.67</td>\n",
       "      <td>161.40</td>\n",
       "      <td>59.12</td>\n",
       "      <td>115.850</td>\n",
       "      <td>98.04</td>\n",
       "      <td>15.53</td>\n",
       "      <td>201.80</td>\n",
       "      <td>18.8000</td>\n",
       "      <td>38.930</td>\n",
       "      <td>70.27</td>\n",
       "    </tr>\n",
       "    <tr>\n",
       "      <th>2015-01-06</th>\n",
       "      <td>110.97</td>\n",
       "      <td>173.42</td>\n",
       "      <td>58.47</td>\n",
       "      <td>117.099</td>\n",
       "      <td>96.73</td>\n",
       "      <td>15.83</td>\n",
       "      <td>199.82</td>\n",
       "      <td>18.0600</td>\n",
       "      <td>38.760</td>\n",
       "      <td>69.57</td>\n",
       "    </tr>\n",
       "    <tr>\n",
       "      <th>2015-01-07</th>\n",
       "      <td>110.92</td>\n",
       "      <td>175.62</td>\n",
       "      <td>59.14</td>\n",
       "      <td>116.430</td>\n",
       "      <td>97.97</td>\n",
       "      <td>15.84</td>\n",
       "      <td>202.34</td>\n",
       "      <td>18.3600</td>\n",
       "      <td>39.640</td>\n",
       "      <td>70.65</td>\n",
       "    </tr>\n",
       "    <tr>\n",
       "      <th>2015-01-08</th>\n",
       "      <td>110.74</td>\n",
       "      <td>178.76</td>\n",
       "      <td>59.95</td>\n",
       "      <td>115.950</td>\n",
       "      <td>99.85</td>\n",
       "      <td>15.63</td>\n",
       "      <td>205.92</td>\n",
       "      <td>18.5489</td>\n",
       "      <td>40.305</td>\n",
       "      <td>71.70</td>\n",
       "    </tr>\n",
       "  </tbody>\n",
       "</table>\n",
       "</div>"
      ],
      "text/plain": [
       "               AGG     DIA    EFA      GLD    QQQ    SLV     SPY      USO  \\\n",
       "             close   close  close    close  close  close   close    close   \n",
       "2015-01-02  110.45  177.99  54.67  114.070  99.50  15.11  205.41  19.9000   \n",
       "2015-01-05  110.67  161.40  59.12  115.850  98.04  15.53  201.80  18.8000   \n",
       "2015-01-06  110.97  173.42  58.47  117.099  96.73  15.83  199.82  18.0600   \n",
       "2015-01-07  110.92  175.62  59.14  116.430  97.97  15.84  202.34  18.3600   \n",
       "2015-01-08  110.74  178.76  59.95  115.950  99.85  15.63  205.92  18.5489   \n",
       "\n",
       "               VWO    XLY  \n",
       "             close  close  \n",
       "2015-01-02  39.570  71.63  \n",
       "2015-01-05  38.930  70.27  \n",
       "2015-01-06  38.760  69.57  \n",
       "2015-01-07  39.640  70.65  \n",
       "2015-01-08  40.305  71.70  "
      ]
     },
     "execution_count": 38,
     "metadata": {},
     "output_type": "execute_result"
    }
   ],
   "source": [
    "df.head()"
   ]
  },
  {
   "cell_type": "code",
   "execution_count": 55,
   "metadata": {},
   "outputs": [
    {
     "data": {
      "text/html": [
       "<div>\n",
       "<style scoped>\n",
       "    .dataframe tbody tr th:only-of-type {\n",
       "        vertical-align: middle;\n",
       "    }\n",
       "\n",
       "    .dataframe tbody tr th {\n",
       "        vertical-align: top;\n",
       "    }\n",
       "\n",
       "    .dataframe thead tr th {\n",
       "        text-align: left;\n",
       "    }\n",
       "</style>\n",
       "<table border=\"1\" class=\"dataframe\">\n",
       "  <thead>\n",
       "    <tr>\n",
       "      <th></th>\n",
       "      <th>AGG</th>\n",
       "      <th>DIA</th>\n",
       "      <th>EFA</th>\n",
       "      <th>GLD</th>\n",
       "      <th>QQQ</th>\n",
       "      <th>SLV</th>\n",
       "      <th>SPY</th>\n",
       "      <th>USO</th>\n",
       "      <th>VWO</th>\n",
       "      <th>XLY</th>\n",
       "    </tr>\n",
       "    <tr>\n",
       "      <th></th>\n",
       "      <th>close</th>\n",
       "      <th>close</th>\n",
       "      <th>close</th>\n",
       "      <th>close</th>\n",
       "      <th>close</th>\n",
       "      <th>close</th>\n",
       "      <th>close</th>\n",
       "      <th>close</th>\n",
       "      <th>close</th>\n",
       "      <th>close</th>\n",
       "    </tr>\n",
       "  </thead>\n",
       "  <tbody>\n",
       "    <tr>\n",
       "      <th>2020-08-07</th>\n",
       "      <td>-0.001129</td>\n",
       "      <td>0.002373</td>\n",
       "      <td>-0.004381</td>\n",
       "      <td>-0.015734</td>\n",
       "      <td>-0.011235</td>\n",
       "      <td>-0.025316</td>\n",
       "      <td>0.000718</td>\n",
       "      <td>-0.011262</td>\n",
       "      <td>-0.020523</td>\n",
       "      <td>0.001641</td>\n",
       "    </tr>\n",
       "    <tr>\n",
       "      <th>2020-08-10</th>\n",
       "      <td>-0.000963</td>\n",
       "      <td>0.013110</td>\n",
       "      <td>0.003300</td>\n",
       "      <td>-0.003354</td>\n",
       "      <td>-0.004494</td>\n",
       "      <td>0.031322</td>\n",
       "      <td>0.002989</td>\n",
       "      <td>0.010385</td>\n",
       "      <td>0.000230</td>\n",
       "      <td>0.011682</td>\n",
       "    </tr>\n",
       "    <tr>\n",
       "      <th>2020-08-11</th>\n",
       "      <td>-0.002891</td>\n",
       "      <td>-0.003702</td>\n",
       "      <td>0.003759</td>\n",
       "      <td>-0.053534</td>\n",
       "      <td>-0.018758</td>\n",
       "      <td>-0.135926</td>\n",
       "      <td>-0.008136</td>\n",
       "      <td>-0.010942</td>\n",
       "      <td>-0.004144</td>\n",
       "      <td>-0.001690</td>\n",
       "    </tr>\n",
       "    <tr>\n",
       "      <th>2020-08-12</th>\n",
       "      <td>-0.001891</td>\n",
       "      <td>0.010246</td>\n",
       "      <td>0.022160</td>\n",
       "      <td>-0.004667</td>\n",
       "      <td>0.025338</td>\n",
       "      <td>0.002992</td>\n",
       "      <td>0.013821</td>\n",
       "      <td>0.024304</td>\n",
       "      <td>0.012483</td>\n",
       "      <td>0.013118</td>\n",
       "    </tr>\n",
       "    <tr>\n",
       "      <th>2020-08-13</th>\n",
       "      <td>-0.003705</td>\n",
       "      <td>-0.002428</td>\n",
       "      <td>-0.004427</td>\n",
       "      <td>0.023501</td>\n",
       "      <td>0.002023</td>\n",
       "      <td>0.086761</td>\n",
       "      <td>-0.001660</td>\n",
       "      <td>-0.005073</td>\n",
       "      <td>-0.004110</td>\n",
       "      <td>-0.000348</td>\n",
       "    </tr>\n",
       "  </tbody>\n",
       "</table>\n",
       "</div>"
      ],
      "text/plain": [
       "                 AGG       DIA       EFA       GLD       QQQ       SLV  \\\n",
       "               close     close     close     close     close     close   \n",
       "2020-08-07 -0.001129  0.002373 -0.004381 -0.015734 -0.011235 -0.025316   \n",
       "2020-08-10 -0.000963  0.013110  0.003300 -0.003354 -0.004494  0.031322   \n",
       "2020-08-11 -0.002891 -0.003702  0.003759 -0.053534 -0.018758 -0.135926   \n",
       "2020-08-12 -0.001891  0.010246  0.022160 -0.004667  0.025338  0.002992   \n",
       "2020-08-13 -0.003705 -0.002428 -0.004427  0.023501  0.002023  0.086761   \n",
       "\n",
       "                 SPY       USO       VWO       XLY  \n",
       "               close     close     close     close  \n",
       "2020-08-07  0.000718 -0.011262 -0.020523  0.001641  \n",
       "2020-08-10  0.002989  0.010385  0.000230  0.011682  \n",
       "2020-08-11 -0.008136 -0.010942 -0.004144 -0.001690  \n",
       "2020-08-12  0.013821  0.024304  0.012483  0.013118  \n",
       "2020-08-13 -0.001660 -0.005073 -0.004110 -0.000348  "
      ]
     },
     "execution_count": 55,
     "metadata": {},
     "output_type": "execute_result"
    }
   ],
   "source": [
    "daily_returns=df.pct_change()\n",
    "daily_returns = daily_returns.dropna()\n",
    "daily_returns.tail()"
   ]
  },
  {
   "cell_type": "code",
   "execution_count": 56,
   "metadata": {},
   "outputs": [],
   "source": [
    "daily_returns.columns = daily_returns.columns.droplevel(1)"
   ]
  },
  {
   "cell_type": "code",
   "execution_count": 57,
   "metadata": {},
   "outputs": [
    {
     "name": "stderr",
     "output_type": "stream",
     "text": [
      "C:\\Users\\zhaoy\\anaconda3\\lib\\site-packages\\statsmodels\\tsa\\base\\tsa_model.py:216: ValueWarning: A date index has been provided, but it has no associated frequency information and so will be ignored when e.g. forecasting.\n",
      "  warnings.warn('A date index has been provided, but it has no'\n",
      "C:\\Users\\zhaoy\\anaconda3\\lib\\site-packages\\statsmodels\\tsa\\base\\tsa_model.py:216: ValueWarning: A date index has been provided, but it has no associated frequency information and so will be ignored when e.g. forecasting.\n",
      "  warnings.warn('A date index has been provided, but it has no'\n",
      "C:\\Users\\zhaoy\\anaconda3\\lib\\site-packages\\statsmodels\\tsa\\base\\tsa_model.py:216: ValueWarning: A date index has been provided, but it has no associated frequency information and so will be ignored when e.g. forecasting.\n",
      "  warnings.warn('A date index has been provided, but it has no'\n",
      "C:\\Users\\zhaoy\\anaconda3\\lib\\site-packages\\statsmodels\\tsa\\base\\tsa_model.py:216: ValueWarning: A date index has been provided, but it has no associated frequency information and so will be ignored when e.g. forecasting.\n",
      "  warnings.warn('A date index has been provided, but it has no'\n",
      "C:\\Users\\zhaoy\\anaconda3\\lib\\site-packages\\statsmodels\\tsa\\base\\tsa_model.py:216: ValueWarning: A date index has been provided, but it has no associated frequency information and so will be ignored when e.g. forecasting.\n",
      "  warnings.warn('A date index has been provided, but it has no'\n",
      "C:\\Users\\zhaoy\\anaconda3\\lib\\site-packages\\statsmodels\\tsa\\base\\tsa_model.py:216: ValueWarning: A date index has been provided, but it has no associated frequency information and so will be ignored when e.g. forecasting.\n",
      "  warnings.warn('A date index has been provided, but it has no'\n",
      "C:\\Users\\zhaoy\\anaconda3\\lib\\site-packages\\statsmodels\\tsa\\base\\tsa_model.py:216: ValueWarning: A date index has been provided, but it has no associated frequency information and so will be ignored when e.g. forecasting.\n",
      "  warnings.warn('A date index has been provided, but it has no'\n",
      "C:\\Users\\zhaoy\\anaconda3\\lib\\site-packages\\statsmodels\\tsa\\base\\tsa_model.py:216: ValueWarning: A date index has been provided, but it has no associated frequency information and so will be ignored when e.g. forecasting.\n",
      "  warnings.warn('A date index has been provided, but it has no'\n",
      "C:\\Users\\zhaoy\\anaconda3\\lib\\site-packages\\statsmodels\\tsa\\base\\tsa_model.py:216: ValueWarning: A date index has been provided, but it has no associated frequency information and so will be ignored when e.g. forecasting.\n",
      "  warnings.warn('A date index has been provided, but it has no'\n",
      "C:\\Users\\zhaoy\\anaconda3\\lib\\site-packages\\statsmodels\\tsa\\base\\tsa_model.py:216: ValueWarning: A date index has been provided, but it has no associated frequency information and so will be ignored when e.g. forecasting.\n",
      "  warnings.warn('A date index has been provided, but it has no'\n",
      "C:\\Users\\zhaoy\\anaconda3\\lib\\site-packages\\statsmodels\\tsa\\base\\tsa_model.py:216: ValueWarning: A date index has been provided, but it has no associated frequency information and so will be ignored when e.g. forecasting.\n",
      "  warnings.warn('A date index has been provided, but it has no'\n",
      "C:\\Users\\zhaoy\\anaconda3\\lib\\site-packages\\statsmodels\\tsa\\base\\tsa_model.py:216: ValueWarning: A date index has been provided, but it has no associated frequency information and so will be ignored when e.g. forecasting.\n",
      "  warnings.warn('A date index has been provided, but it has no'\n",
      "C:\\Users\\zhaoy\\anaconda3\\lib\\site-packages\\statsmodels\\tsa\\base\\tsa_model.py:216: ValueWarning: A date index has been provided, but it has no associated frequency information and so will be ignored when e.g. forecasting.\n",
      "  warnings.warn('A date index has been provided, but it has no'\n",
      "C:\\Users\\zhaoy\\anaconda3\\lib\\site-packages\\statsmodels\\tsa\\base\\tsa_model.py:216: ValueWarning: A date index has been provided, but it has no associated frequency information and so will be ignored when e.g. forecasting.\n",
      "  warnings.warn('A date index has been provided, but it has no'\n",
      "C:\\Users\\zhaoy\\anaconda3\\lib\\site-packages\\statsmodels\\tsa\\base\\tsa_model.py:216: ValueWarning: A date index has been provided, but it has no associated frequency information and so will be ignored when e.g. forecasting.\n",
      "  warnings.warn('A date index has been provided, but it has no'\n",
      "C:\\Users\\zhaoy\\anaconda3\\lib\\site-packages\\statsmodels\\tsa\\base\\tsa_model.py:216: ValueWarning: A date index has been provided, but it has no associated frequency information and so will be ignored when e.g. forecasting.\n",
      "  warnings.warn('A date index has been provided, but it has no'\n",
      "C:\\Users\\zhaoy\\anaconda3\\lib\\site-packages\\statsmodels\\tsa\\base\\tsa_model.py:216: ValueWarning: A date index has been provided, but it has no associated frequency information and so will be ignored when e.g. forecasting.\n",
      "  warnings.warn('A date index has been provided, but it has no'\n",
      "C:\\Users\\zhaoy\\anaconda3\\lib\\site-packages\\statsmodels\\tsa\\base\\tsa_model.py:216: ValueWarning: A date index has been provided, but it has no associated frequency information and so will be ignored when e.g. forecasting.\n",
      "  warnings.warn('A date index has been provided, but it has no'\n",
      "C:\\Users\\zhaoy\\anaconda3\\lib\\site-packages\\statsmodels\\tsa\\base\\tsa_model.py:216: ValueWarning: A date index has been provided, but it has no associated frequency information and so will be ignored when e.g. forecasting.\n",
      "  warnings.warn('A date index has been provided, but it has no'\n",
      "C:\\Users\\zhaoy\\anaconda3\\lib\\site-packages\\statsmodels\\tsa\\base\\tsa_model.py:216: ValueWarning: A date index has been provided, but it has no associated frequency information and so will be ignored when e.g. forecasting.\n",
      "  warnings.warn('A date index has been provided, but it has no'\n"
     ]
    }
   ],
   "source": [
    "from statsmodels.tsa.arima_model import ARIMA\n",
    "model1 = ARIMA(daily_returns.AGG, order=(2, 1, 1))\n",
    "model2 = ARIMA(daily_returns.DIA, order=(2, 1, 1))\n",
    "model3 = ARIMA(daily_returns.EFA, order=(2, 1, 3))\n",
    "model4 = ARIMA(daily_returns.GLD, order=(2, 1, 1))\n",
    "model5 = ARIMA(daily_returns.QQQ, order=(2, 1, 1))\n",
    "model6 = ARIMA(daily_returns.SLV, order=(2, 1, 1))\n",
    "model7 = ARIMA(daily_returns.SPY, order=(2, 1, 1))\n",
    "model8 = ARIMA(daily_returns.USO, order=(2, 1, 1))\n",
    "model9 = ARIMA(daily_returns.VWO, order=(2, 1, 1))\n",
    "model10 = ARIMA(daily_returns.XLY, order=(2, 1, 1))"
   ]
  },
  {
   "cell_type": "code",
   "execution_count": 9,
   "metadata": {},
   "outputs": [
    {
     "data": {
      "text/plain": [
       "<statsmodels.tsa.arima_model.ARIMA at 0x2dca152a9a0>"
      ]
     },
     "execution_count": 9,
     "metadata": {},
     "output_type": "execute_result"
    }
   ],
   "source": [
    "model3"
   ]
  },
  {
   "cell_type": "code",
   "execution_count": 58,
   "metadata": {},
   "outputs": [
    {
     "name": "stderr",
     "output_type": "stream",
     "text": [
      "C:\\Users\\zhaoy\\anaconda3\\lib\\site-packages\\statsmodels\\base\\model.py:567: ConvergenceWarning: Maximum Likelihood optimization failed to converge. Check mle_retvals\n",
      "  warn(\"Maximum Likelihood optimization failed to converge. \"\n",
      "C:\\Users\\zhaoy\\anaconda3\\lib\\site-packages\\statsmodels\\base\\model.py:567: ConvergenceWarning: Maximum Likelihood optimization failed to converge. Check mle_retvals\n",
      "  warn(\"Maximum Likelihood optimization failed to converge. \"\n"
     ]
    }
   ],
   "source": [
    "results_arima1 = model1.fit()\n",
    "results_arima2 = model2.fit()\n",
    "results_arima3 = model3.fit()\n",
    "results_arima4 = model4.fit()\n",
    "results_arima5 = model5.fit()\n",
    "results_arima6 = model6.fit()\n",
    "results_arima7 = model7.fit()\n",
    "results_arima8 = model8.fit()\n",
    "results_arima9 = model9.fit()\n",
    "results_arima10 = model10.fit()"
   ]
  },
  {
   "cell_type": "code",
   "execution_count": 61,
   "metadata": {},
   "outputs": [],
   "source": [
    "forecast_agg=pd.DataFrame((results_arima1.forecast(steps=5)[0] + 1)).prod()\n",
    "forecast_dia=pd.DataFrame((results_arima2.forecast(steps=5)[0] + 1)).prod()\n",
    "forecast_efa=pd.DataFrame((results_arima3.forecast(steps=5)[0] + 1)).prod()\n",
    "forecast_gld=pd.DataFrame((results_arima4.forecast(steps=5)[0] + 1)).prod()\n",
    "forecast_qqq=pd.DataFrame((results_arima5.forecast(steps=5)[0] + 1)).prod()\n",
    "forecast_slv=pd.DataFrame((results_arima6.forecast(steps=5)[0] + 1)).prod()\n",
    "forecast_spy=pd.DataFrame((results_arima7.forecast(steps=5)[0] + 1)).prod()\n",
    "forecast_uso=pd.DataFrame((results_arima8.forecast(steps=5)[0] +1)). prod()\n",
    "forecast_vwo=pd.DataFrame((results_arima9.forecast(steps=5)[0] + 1)).prod()\n",
    "forecast_xly=pd.DataFrame((results_arima10.forecast(steps=5)[0] + 1)).prod()"
   ]
  },
  {
   "cell_type": "code",
   "execution_count": 63,
   "metadata": {},
   "outputs": [
    {
     "data": {
      "text/plain": [
       "0    1.001618\n",
       "dtype: float64"
      ]
     },
     "execution_count": 63,
     "metadata": {},
     "output_type": "execute_result"
    }
   ],
   "source": [
    "forecast_agg"
   ]
  },
  {
   "cell_type": "code",
   "execution_count": 66,
   "metadata": {},
   "outputs": [],
   "source": [
    "forecast_agg = pd.DataFrame(forecast_agg)\n",
    "forecast_dia=pd.DataFrame(forecast_dia)\n",
    "forecast_efa=pd.DataFrame(forecast_efa)\n",
    "forecast_gld=pd.DataFrame(forecast_gld)\n",
    "forecast_qqq=pd.DataFrame(forecast_qqq)\n",
    "forecast_slv=pd.DataFrame(forecast_slv)\n",
    "forecast_spy=pd.DataFrame(forecast_spy)\n",
    "forecast_uso=pd.DataFrame(forecast_uso)\n",
    "forecast_vwo=pd.DataFrame(forecast_vwo)\n",
    "forecast_xly=pd.DataFrame(forecast_xly)"
   ]
  },
  {
   "cell_type": "code",
   "execution_count": 65,
   "metadata": {},
   "outputs": [
    {
     "data": {
      "text/html": [
       "<div>\n",
       "<style scoped>\n",
       "    .dataframe tbody tr th:only-of-type {\n",
       "        vertical-align: middle;\n",
       "    }\n",
       "\n",
       "    .dataframe tbody tr th {\n",
       "        vertical-align: top;\n",
       "    }\n",
       "\n",
       "    .dataframe thead th {\n",
       "        text-align: right;\n",
       "    }\n",
       "</style>\n",
       "<table border=\"1\" class=\"dataframe\">\n",
       "  <thead>\n",
       "    <tr style=\"text-align: right;\">\n",
       "      <th></th>\n",
       "      <th>0</th>\n",
       "    </tr>\n",
       "  </thead>\n",
       "  <tbody>\n",
       "    <tr>\n",
       "      <th>0</th>\n",
       "      <td>1.001618</td>\n",
       "    </tr>\n",
       "  </tbody>\n",
       "</table>\n",
       "</div>"
      ],
      "text/plain": [
       "          0\n",
       "0  1.001618"
      ]
     },
     "execution_count": 65,
     "metadata": {},
     "output_type": "execute_result"
    }
   ],
   "source": [
    "forecast_agg"
   ]
  },
  {
   "cell_type": "code",
   "execution_count": 23,
   "metadata": {},
   "outputs": [
    {
     "data": {
      "text/plain": [
       "1.1769964301270441"
      ]
     },
     "execution_count": 23,
     "metadata": {},
     "output_type": "execute_result"
    }
   ],
   "source": [
    "#(results_arima1.forecast(steps=5)[0] + 1).prod()"
   ]
  },
  {
   "cell_type": "code",
   "execution_count": 67,
   "metadata": {},
   "outputs": [],
   "source": [
    "forecast_agg['Return_Forecast_AGG']=forecast_agg[0]\n",
    "forecast_dia['Return_Forecast_DIA']=forecast_dia[0]\n",
    "forecast_efa['Return_Forecast_EFA']=forecast_efa[0]\n",
    "forecast_gld['Return_Forecast_GLD']=forecast_gld[0]\n",
    "forecast_qqq['Return_Forecast_QQQ']=forecast_qqq[0]\n",
    "forecast_slv['Return_Forecast_SLV']=forecast_slv[0]\n",
    "forecast_spy['Return_Forecast_SPY']=forecast_spy[0]\n",
    "forecast_uso['Return_Forecast_USO']=forecast_uso[0]\n",
    "forecast_vwo['Return_Forecast_VWO']=forecast_vwo[0]\n",
    "forecast_xly['Return_Forecast_XLY']=forecast_xly[0]"
   ]
  },
  {
   "cell_type": "code",
   "execution_count": 68,
   "metadata": {},
   "outputs": [
    {
     "data": {
      "text/html": [
       "<div>\n",
       "<style scoped>\n",
       "    .dataframe tbody tr th:only-of-type {\n",
       "        vertical-align: middle;\n",
       "    }\n",
       "\n",
       "    .dataframe tbody tr th {\n",
       "        vertical-align: top;\n",
       "    }\n",
       "\n",
       "    .dataframe thead th {\n",
       "        text-align: right;\n",
       "    }\n",
       "</style>\n",
       "<table border=\"1\" class=\"dataframe\">\n",
       "  <thead>\n",
       "    <tr style=\"text-align: right;\">\n",
       "      <th></th>\n",
       "      <th>0</th>\n",
       "      <th>Return_Forecast_AGG</th>\n",
       "    </tr>\n",
       "  </thead>\n",
       "  <tbody>\n",
       "    <tr>\n",
       "      <th>0</th>\n",
       "      <td>1.001618</td>\n",
       "      <td>1.001618</td>\n",
       "    </tr>\n",
       "  </tbody>\n",
       "</table>\n",
       "</div>"
      ],
      "text/plain": [
       "          0  Return_Forecast_AGG\n",
       "0  1.001618             1.001618"
      ]
     },
     "execution_count": 68,
     "metadata": {},
     "output_type": "execute_result"
    }
   ],
   "source": [
    "forecast_agg"
   ]
  },
  {
   "cell_type": "code",
   "execution_count": 69,
   "metadata": {},
   "outputs": [],
   "source": [
    "forecast_agg = forecast_agg.drop(columns=[0])\n",
    "forecast_dia = forecast_dia.drop(columns=[0])\n",
    "forecast_efa = forecast_efa.drop(columns=[0])\n",
    "forecast_gld = forecast_gld.drop(columns=[0])\n",
    "forecast_qqq = forecast_qqq.drop(columns=[0])\n",
    "forecast_slv = forecast_slv.drop(columns=[0])\n",
    "forecast_spy = forecast_spy.drop(columns=[0])\n",
    "forecast_uso = forecast_uso.drop(columns=[0])\n",
    "forecast_vwo = forecast_vwo.drop(columns=[0])\n",
    "forecast_xly = forecast_xly.drop(columns=[0])"
   ]
  },
  {
   "cell_type": "code",
   "execution_count": 70,
   "metadata": {},
   "outputs": [
    {
     "data": {
      "text/html": [
       "<div>\n",
       "<style scoped>\n",
       "    .dataframe tbody tr th:only-of-type {\n",
       "        vertical-align: middle;\n",
       "    }\n",
       "\n",
       "    .dataframe tbody tr th {\n",
       "        vertical-align: top;\n",
       "    }\n",
       "\n",
       "    .dataframe thead th {\n",
       "        text-align: right;\n",
       "    }\n",
       "</style>\n",
       "<table border=\"1\" class=\"dataframe\">\n",
       "  <thead>\n",
       "    <tr style=\"text-align: right;\">\n",
       "      <th></th>\n",
       "      <th>Return_Forecast_DIA</th>\n",
       "    </tr>\n",
       "  </thead>\n",
       "  <tbody>\n",
       "    <tr>\n",
       "      <th>0</th>\n",
       "      <td>1.001149</td>\n",
       "    </tr>\n",
       "  </tbody>\n",
       "</table>\n",
       "</div>"
      ],
      "text/plain": [
       "   Return_Forecast_DIA\n",
       "0             1.001149"
      ]
     },
     "execution_count": 70,
     "metadata": {},
     "output_type": "execute_result"
    }
   ],
   "source": [
    "forecast_dia"
   ]
  },
  {
   "cell_type": "code",
   "execution_count": 71,
   "metadata": {},
   "outputs": [],
   "source": [
    "portfolio = pd.concat([forecast_agg,forecast_dia,forecast_efa,forecast_gld,forecast_qqq,forecast_slv,forecast_spy,forecast_uso,forecast_vwo,forecast_xly],axis=\"columns\", join=\"outer\")"
   ]
  },
  {
   "cell_type": "code",
   "execution_count": 72,
   "metadata": {},
   "outputs": [
    {
     "data": {
      "text/html": [
       "<div>\n",
       "<style scoped>\n",
       "    .dataframe tbody tr th:only-of-type {\n",
       "        vertical-align: middle;\n",
       "    }\n",
       "\n",
       "    .dataframe tbody tr th {\n",
       "        vertical-align: top;\n",
       "    }\n",
       "\n",
       "    .dataframe thead th {\n",
       "        text-align: right;\n",
       "    }\n",
       "</style>\n",
       "<table border=\"1\" class=\"dataframe\">\n",
       "  <thead>\n",
       "    <tr style=\"text-align: right;\">\n",
       "      <th></th>\n",
       "      <th>Return_Forecast_AGG</th>\n",
       "      <th>Return_Forecast_DIA</th>\n",
       "      <th>Return_Forecast_EFA</th>\n",
       "      <th>Return_Forecast_GLD</th>\n",
       "      <th>Return_Forecast_QQQ</th>\n",
       "      <th>Return_Forecast_SLV</th>\n",
       "      <th>Return_Forecast_SPY</th>\n",
       "      <th>Return_Forecast_USO</th>\n",
       "      <th>Return_Forecast_VWO</th>\n",
       "      <th>Return_Forecast_XLY</th>\n",
       "    </tr>\n",
       "  </thead>\n",
       "  <tbody>\n",
       "    <tr>\n",
       "      <th>0</th>\n",
       "      <td>1.001618</td>\n",
       "      <td>1.001149</td>\n",
       "      <td>0.989096</td>\n",
       "      <td>1.008776</td>\n",
       "      <td>1.014843</td>\n",
       "      <td>1.032437</td>\n",
       "      <td>1.004938</td>\n",
       "      <td>1.101121</td>\n",
       "      <td>1.004006</td>\n",
       "      <td>1.005829</td>\n",
       "    </tr>\n",
       "  </tbody>\n",
       "</table>\n",
       "</div>"
      ],
      "text/plain": [
       "   Return_Forecast_AGG  Return_Forecast_DIA  Return_Forecast_EFA  \\\n",
       "0             1.001618             1.001149             0.989096   \n",
       "\n",
       "   Return_Forecast_GLD  Return_Forecast_QQQ  Return_Forecast_SLV  \\\n",
       "0             1.008776             1.014843             1.032437   \n",
       "\n",
       "   Return_Forecast_SPY  Return_Forecast_USO  Return_Forecast_VWO  \\\n",
       "0             1.004938             1.101121             1.004006   \n",
       "\n",
       "   Return_Forecast_XLY  \n",
       "0             1.005829  "
      ]
     },
     "execution_count": 72,
     "metadata": {},
     "output_type": "execute_result"
    }
   ],
   "source": [
    "portfolio.head()"
   ]
  },
  {
   "cell_type": "code",
   "execution_count": 77,
   "metadata": {},
   "outputs": [
    {
     "data": {
      "text/html": [
       "<div>\n",
       "<style scoped>\n",
       "    .dataframe tbody tr th:only-of-type {\n",
       "        vertical-align: middle;\n",
       "    }\n",
       "\n",
       "    .dataframe tbody tr th {\n",
       "        vertical-align: top;\n",
       "    }\n",
       "\n",
       "    .dataframe thead th {\n",
       "        text-align: right;\n",
       "    }\n",
       "</style>\n",
       "<table border=\"1\" class=\"dataframe\">\n",
       "  <thead>\n",
       "    <tr style=\"text-align: right;\">\n",
       "      <th></th>\n",
       "      <th>0</th>\n",
       "    </tr>\n",
       "  </thead>\n",
       "  <tbody>\n",
       "    <tr>\n",
       "      <th>Return_Forecast_AGG</th>\n",
       "      <td>1.001618</td>\n",
       "    </tr>\n",
       "    <tr>\n",
       "      <th>Return_Forecast_DIA</th>\n",
       "      <td>1.001149</td>\n",
       "    </tr>\n",
       "    <tr>\n",
       "      <th>Return_Forecast_EFA</th>\n",
       "      <td>0.989096</td>\n",
       "    </tr>\n",
       "    <tr>\n",
       "      <th>Return_Forecast_GLD</th>\n",
       "      <td>1.008776</td>\n",
       "    </tr>\n",
       "    <tr>\n",
       "      <th>Return_Forecast_QQQ</th>\n",
       "      <td>1.014843</td>\n",
       "    </tr>\n",
       "    <tr>\n",
       "      <th>Return_Forecast_SLV</th>\n",
       "      <td>1.032437</td>\n",
       "    </tr>\n",
       "    <tr>\n",
       "      <th>Return_Forecast_SPY</th>\n",
       "      <td>1.004938</td>\n",
       "    </tr>\n",
       "    <tr>\n",
       "      <th>Return_Forecast_USO</th>\n",
       "      <td>1.101121</td>\n",
       "    </tr>\n",
       "    <tr>\n",
       "      <th>Return_Forecast_VWO</th>\n",
       "      <td>1.004006</td>\n",
       "    </tr>\n",
       "    <tr>\n",
       "      <th>Return_Forecast_XLY</th>\n",
       "      <td>1.005829</td>\n",
       "    </tr>\n",
       "  </tbody>\n",
       "</table>\n",
       "</div>"
      ],
      "text/plain": [
       "                            0\n",
       "Return_Forecast_AGG  1.001618\n",
       "Return_Forecast_DIA  1.001149\n",
       "Return_Forecast_EFA  0.989096\n",
       "Return_Forecast_GLD  1.008776\n",
       "Return_Forecast_QQQ  1.014843\n",
       "Return_Forecast_SLV  1.032437\n",
       "Return_Forecast_SPY  1.004938\n",
       "Return_Forecast_USO  1.101121\n",
       "Return_Forecast_VWO  1.004006\n",
       "Return_Forecast_XLY  1.005829"
      ]
     },
     "execution_count": 77,
     "metadata": {},
     "output_type": "execute_result"
    }
   ],
   "source": [
    "arima=portfolio.T\n",
    "arima"
   ]
  },
  {
   "cell_type": "code",
   "execution_count": 80,
   "metadata": {},
   "outputs": [
    {
     "data": {
      "text/html": [
       "<div>\n",
       "<style scoped>\n",
       "    .dataframe tbody tr th:only-of-type {\n",
       "        vertical-align: middle;\n",
       "    }\n",
       "\n",
       "    .dataframe tbody tr th {\n",
       "        vertical-align: top;\n",
       "    }\n",
       "\n",
       "    .dataframe thead th {\n",
       "        text-align: right;\n",
       "    }\n",
       "</style>\n",
       "<table border=\"1\" class=\"dataframe\">\n",
       "  <thead>\n",
       "    <tr style=\"text-align: right;\">\n",
       "      <th></th>\n",
       "      <th>0</th>\n",
       "    </tr>\n",
       "  </thead>\n",
       "  <tbody>\n",
       "    <tr>\n",
       "      <th>Return_Forecast_USO</th>\n",
       "      <td>1.101121</td>\n",
       "    </tr>\n",
       "    <tr>\n",
       "      <th>Return_Forecast_SLV</th>\n",
       "      <td>1.032437</td>\n",
       "    </tr>\n",
       "    <tr>\n",
       "      <th>Return_Forecast_QQQ</th>\n",
       "      <td>1.014843</td>\n",
       "    </tr>\n",
       "    <tr>\n",
       "      <th>Return_Forecast_GLD</th>\n",
       "      <td>1.008776</td>\n",
       "    </tr>\n",
       "    <tr>\n",
       "      <th>Return_Forecast_XLY</th>\n",
       "      <td>1.005829</td>\n",
       "    </tr>\n",
       "    <tr>\n",
       "      <th>Return_Forecast_SPY</th>\n",
       "      <td>1.004938</td>\n",
       "    </tr>\n",
       "    <tr>\n",
       "      <th>Return_Forecast_VWO</th>\n",
       "      <td>1.004006</td>\n",
       "    </tr>\n",
       "    <tr>\n",
       "      <th>Return_Forecast_AGG</th>\n",
       "      <td>1.001618</td>\n",
       "    </tr>\n",
       "    <tr>\n",
       "      <th>Return_Forecast_DIA</th>\n",
       "      <td>1.001149</td>\n",
       "    </tr>\n",
       "    <tr>\n",
       "      <th>Return_Forecast_EFA</th>\n",
       "      <td>0.989096</td>\n",
       "    </tr>\n",
       "  </tbody>\n",
       "</table>\n",
       "</div>"
      ],
      "text/plain": [
       "                            0\n",
       "Return_Forecast_USO  1.101121\n",
       "Return_Forecast_SLV  1.032437\n",
       "Return_Forecast_QQQ  1.014843\n",
       "Return_Forecast_GLD  1.008776\n",
       "Return_Forecast_XLY  1.005829\n",
       "Return_Forecast_SPY  1.004938\n",
       "Return_Forecast_VWO  1.004006\n",
       "Return_Forecast_AGG  1.001618\n",
       "Return_Forecast_DIA  1.001149\n",
       "Return_Forecast_EFA  0.989096"
      ]
     },
     "execution_count": 80,
     "metadata": {},
     "output_type": "execute_result"
    }
   ],
   "source": [
    "arima = arima.sort_values(by=[0],ascending=False)\n",
    "arima"
   ]
  },
  {
   "cell_type": "code",
   "execution_count": 83,
   "metadata": {},
   "outputs": [],
   "source": [
    "arima.to_csv('arima.csv')"
   ]
  },
  {
   "cell_type": "code",
   "execution_count": null,
   "metadata": {},
   "outputs": [],
   "source": []
  }
 ],
 "metadata": {
  "kernelspec": {
   "display_name": "Python 3",
   "language": "python",
   "name": "python3"
  },
  "language_info": {
   "codemirror_mode": {
    "name": "ipython",
    "version": 3
   },
   "file_extension": ".py",
   "mimetype": "text/x-python",
   "name": "python",
   "nbconvert_exporter": "python",
   "pygments_lexer": "ipython3",
   "version": "3.8.3"
  }
 },
 "nbformat": 4,
 "nbformat_minor": 4
}
